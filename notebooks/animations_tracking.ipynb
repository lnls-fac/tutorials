{
 "cells": [
  {
   "cell_type": "code",
   "execution_count": 2,
   "id": "ec6d34d0-c4a2-4573-a1d6-9ed469e80fc4",
   "metadata": {},
   "outputs": [],
   "source": [
    "%matplotlib qt5\n",
    "import numpy as np\n",
    "import matplotlib.pyplot as mplt\n",
    "from matplotlib.animation import FuncAnimation\n",
    "import pyaccel as pa\n",
    "from pymodels import si\n",
    "\n",
    "mplt.rcParams.update({'font.size': 18})"
   ]
  },
  {
   "cell_type": "code",
   "execution_count": 3,
   "id": "64f81b03-3fa2-49cc-8c41-bc86acdf116d",
   "metadata": {},
   "outputs": [],
   "source": [
    "class Animate:\n",
    "    \"\"\".\"\"\"\n",
    "    \n",
    "    @staticmethod\n",
    "    def calc_curly_h(twi, parts):\n",
    "        dlt = parts[4]\n",
    "        x0 = parts[0] - twi.etax * dlt\n",
    "        xl0 = parts[1] - twi.etapx * dlt\n",
    "        y0 = parts[2] - twi.etay * dlt\n",
    "        yl0 = parts[3] - twi.etapy * dlt\n",
    "        curhx = twi.betax * xl0**2 + 2*twi.alphax * xl0 * x0 + (1 + twi.alphax**2)/twi.betax * x0**2\n",
    "        curhy = twi.betay * yl0**2 + 2*twi.alphay * yl0 * y0 + (1 + twi.alphay**2)/twi.betay * y0**2\n",
    "        return curhx, curhy\n",
    "        \n",
    "    @staticmethod\n",
    "    def tracking_single_particle(frames, twi, rout, every=100, title=''):\n",
    "        \"\"\".\"\"\"\n",
    "        actx, acty = Animate.calc_curly_h(twi[0], rout[..., 0])\n",
    "        dlt = rout[4, ..., 0].max()\n",
    "        offx = twi.etax * dlt\n",
    "        actx = actx.max()\n",
    "        acty = acty.max()\n",
    "        \n",
    "        fig, ax = mplt.subplots(1, 1, figsize=(12, 6))\n",
    "        pa.graphics.draw_lattice(mod2, gca=ax, height=5)\n",
    "        ax.plot(\n",
    "            twi.spos,\n",
    "            (offx + np.sqrt(twi.betax*actx))*1e6,\n",
    "            color='k',\n",
    "            label=r'Envelope $\\left(\\sqrt{\\epsilon \\beta_x}\\right)$',\n",
    "        )\n",
    "        if not np.isclose(dlt, 0):\n",
    "            ax.plot(twi.spos, offx*1e6, '--k', label=r'Off Energy Orbit $\\left(\\eta_x \\delta\\right)$')\n",
    "        ax.plot(twi.spos, (offx - np.sqrt(twi.betax*actx))*1e6, color='k')\n",
    "\n",
    "        x = np.array(rout[0, ..., 0] * 1e6, ndmin=1)\n",
    "        xl = np.array(rout[1, ..., 0] * 1e6, ndmin=1)\n",
    "        spos = np.full_like(x, twi[0].spos)\n",
    "        lin = ax.plot(spos, x, 'o')[0]\n",
    "        ret = ax.quiver(\n",
    "            spos,\n",
    "            x,\n",
    "            spos*0 + 1,\n",
    "            xl,\n",
    "            color='tab:red',\n",
    "            angles='xy',\n",
    "            scale_units='xy',\n",
    "            scale=1,\n",
    "            headlength=3,\n",
    "            headaxislength=2.6,\n",
    "            width=0.003,\n",
    "        )\n",
    "\n",
    "        ax.set_title(title)\n",
    "        ax.set_ylabel('Horizontal Displacement [um]')\n",
    "        ax.set_xlabel('Longitudinal Position [m]')\n",
    "        ax.legend(loc='lower center', fontsize='small')\n",
    "        fig.tight_layout()\n",
    "\n",
    "        def update(i):\n",
    "            idx = every * i\n",
    "            idx = idx if idx < rout.shape[-1] else rout.shape[-1]-1\n",
    "    \n",
    "            x = np.array(rout[0, ..., idx] * 1e6, ndmin=1)\n",
    "            xl = np.array(rout[1, ..., idx] * 1e6, ndmin=1)\n",
    "            spos = np.full_like(x, twi[idx].spos)\n",
    "            lin.set_data(spos, x)\n",
    "            ret.set_offsets(np.array([spos, x]).T)\n",
    "            ret.set_UVC(spos*0 + 1, xl)\n",
    "           \n",
    "            ax.relim()\n",
    "            ax.autoscale_view()\n",
    "            fig.tight_layout()\n",
    "            return []\n",
    "\n",
    "        return FuncAnimation(\n",
    "            fig, update, fargs=(), frames=frames,\n",
    "            repeat=True, repeat_delay=2000, interval=50,\n",
    "            init_func=lambda: []), fig"
   ]
  },
  {
   "cell_type": "code",
   "execution_count": 4,
   "id": "01dcff80-0d85-4d81-9f36-adb4a47665d8",
   "metadata": {},
   "outputs": [
    {
     "data": {
      "text/plain": [
       "2771"
      ]
     },
     "execution_count": 4,
     "metadata": {},
     "output_type": "execute_result"
    }
   ],
   "source": [
    "mod = si.create_accelerator()\n",
    "\n",
    "mib = pa.lattice.find_indices(mod, 'fam_name', 'mib')\n",
    "mip = pa.lattice.find_indices(mod, 'fam_name', 'mip')\n",
    "mod2 = mod[mib[0]:mip[0]]\n",
    "mod2 = pa.lattice.refine_lattice(mod2, max_length=0.01)\n",
    "twi, *_ = pa.optics.calc_twiss(mod2)\n",
    "len(mod2)"
   ]
  },
  {
   "cell_type": "code",
   "execution_count": 7,
   "id": "b21dcb1e-e92e-4953-99f5-30e770049bed",
   "metadata": {},
   "outputs": [],
   "source": [
    "x0 = 1e-5 \n",
    "xl0 = 1e-5\n",
    "y0 = 1e-5 * 0\n",
    "yl0 = 1e-5 * 0\n",
    "dlt = 0\n",
    "rin = [x0, xl0, y0, yl0, dlt, 0]\n",
    "rout, *_ = pa.tracking.line_pass(mod2, rin, indices='open')\n",
    "\n",
    "every = 1\n",
    "div, mod = divmod(rout.shape[-1], every)\n",
    "div += 1 if mod else 0\n",
    "frames = list(range(div+1))[1:]\n",
    "ann, fig = Animate.tracking_single_particle(frames, twi, rout, every=every, title='Single Partilce with Nominal Energy')"
   ]
  },
  {
   "cell_type": "code",
   "execution_count": 8,
   "id": "4bc58688-0471-4fe9-a423-f935fd9a43e0",
   "metadata": {},
   "outputs": [],
   "source": [
    "ann.save('single_particle_on_energy.mp4')"
   ]
  },
  {
   "cell_type": "code",
   "execution_count": 9,
   "id": "23bad536-0c9d-45a1-ae82-595b3ed9f872",
   "metadata": {},
   "outputs": [],
   "source": [
    "x0 = 1e-5 \n",
    "xl0 = 1e-5\n",
    "y0 = 1e-5 * 0\n",
    "yl0 = 1e-5 * 0\n",
    "dlt = 3e-4\n",
    "rin = [x0, xl0, y0, yl0, dlt, 0]\n",
    "rout, *_ = pa.tracking.line_pass(mod2, rin, indices='open')\n",
    "\n",
    "every = 10\n",
    "div, mod = divmod(rout.shape[-1], every)\n",
    "div += 1 if mod else 0\n",
    "frames = list(range(div+1))[1:]\n",
    "ann, fig = Animate.tracking_single_particle(frames, twi, rout, every=every, title='Single Partilce with Offset Energy')"
   ]
  },
  {
   "cell_type": "code",
   "execution_count": 10,
   "id": "5b84d912-f7c8-487c-8a94-4d2ea2fd2839",
   "metadata": {},
   "outputs": [],
   "source": [
    "ann.save('single_particle_off_energy.mp4')"
   ]
  },
  {
   "cell_type": "code",
   "execution_count": 11,
   "id": "af877f61-e1e3-4c70-bb4d-88dc33386d3a",
   "metadata": {},
   "outputs": [],
   "source": [
    "npart = 300\n",
    "rin = np.zeros((6, npart), dtype=float)\n",
    "ang = np.linspace(-1, 1, npart) * np.pi\n",
    "emit = 250e-12\n",
    "rin[0] = np.sqrt(emit * twi[0].betax) * np.cos(ang)\n",
    "rin[1] = -np.sqrt(emit / twi[0].betax) * (twi[0].alphax * np.cos(ang) + np.sin(ang))\n",
    "rout, *_ = pa.tracking.line_pass(mod2, rin, indices='open')\n",
    "\n",
    "every = 5\n",
    "div, mod = divmod(rout.shape[-1], every)\n",
    "div += 1 if mod else 0\n",
    "frames = list(range(div+1))[1:]\n",
    "ann, fig = Animate.tracking_single_particle(frames, twi, rout, every=every, title='A Bunch of Particles')"
   ]
  },
  {
   "cell_type": "code",
   "execution_count": 12,
   "id": "993a6f1d-35df-4ff8-8c23-94c2f14424e1",
   "metadata": {},
   "outputs": [],
   "source": [
    "ann.save('bunch_of_particles.mp4')"
   ]
  },
  {
   "cell_type": "code",
   "execution_count": null,
   "id": "100bd74e-676b-42f2-ab12-f721ff3a6a10",
   "metadata": {},
   "outputs": [],
   "source": []
  }
 ],
 "metadata": {
  "kernelspec": {
   "display_name": "Python 3 (ipykernel)",
   "language": "python",
   "name": "python3"
  },
  "language_info": {
   "codemirror_mode": {
    "name": "ipython",
    "version": 3
   },
   "file_extension": ".py",
   "mimetype": "text/x-python",
   "name": "python",
   "nbconvert_exporter": "python",
   "pygments_lexer": "ipython3",
   "version": "3.9.2"
  }
 },
 "nbformat": 4,
 "nbformat_minor": 5
}
