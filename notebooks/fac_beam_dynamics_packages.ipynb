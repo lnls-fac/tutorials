{
 "cells": [
  {
   "cell_type": "code",
   "execution_count": null,
   "metadata": {
    "ExecuteTime": {
     "end_time": "2023-02-10T12:08:01.057186Z",
     "start_time": "2023-02-10T12:07:58.943826Z"
    }
   },
   "outputs": [],
   "source": [
    "%matplotlib qt5\n",
    "#%matplotlib inline\n",
    "\n",
    "import numpy as np\n",
    "import matplotlib.pyplot as plt\n",
    "from matplotlib import rcParams\n",
    "\n",
    "rcParams.update({\n",
    "    'font.size': 14, 'grid.alpha': 0.5, 'grid.linestyle': '--',\n",
    "    'axes.grid': True,\n",
    "})"
   ]
  },
  {
   "cell_type": "markdown",
   "metadata": {
    "heading_collapsed": true
   },
   "source": [
    "# Pymodels\n",
    "\n",
    "Python module for accelerator modelling"
   ]
  },
  {
   "cell_type": "markdown",
   "metadata": {
    "heading_collapsed": true,
    "hidden": true
   },
   "source": [
    "### Accelerator Models\n",
    "\n",
    "- Linac: li\n",
    "- Transport Line - Linac to Booster: tb\n",
    "- Booster: bo\n",
    "- Transport Line - Booster to Sirius: ts\n",
    "- Sirius (Storage Ring): si"
   ]
  },
  {
   "cell_type": "code",
   "execution_count": null,
   "metadata": {
    "ExecuteTime": {
     "end_time": "2023-02-10T12:08:05.557848Z",
     "start_time": "2023-02-10T12:08:03.182542Z"
    },
    "hidden": true
   },
   "outputs": [],
   "source": [
    "import pymodels"
   ]
  },
  {
   "cell_type": "code",
   "execution_count": null,
   "metadata": {
    "ExecuteTime": {
     "end_time": "2023-02-10T12:08:06.148980Z",
     "start_time": "2023-02-10T12:08:05.997833Z"
    },
    "hidden": true
   },
   "outputs": [],
   "source": [
    "model = pymodels.si.create_accelerator()\n",
    "model.cavity_on = False\n",
    "model.radiation_on = False\n",
    "model.vchamber_on = False"
   ]
  },
  {
   "cell_type": "code",
   "execution_count": null,
   "metadata": {
    "ExecuteTime": {
     "end_time": "2023-02-10T12:08:06.975881Z",
     "start_time": "2023-02-10T12:08:06.971114Z"
    },
    "hidden": true
   },
   "outputs": [],
   "source": [
    "print(model)"
   ]
  },
  {
   "cell_type": "markdown",
   "metadata": {
    "ExecuteTime": {
     "end_time": "2022-03-21T14:02:21.242387Z",
     "start_time": "2022-03-21T14:02:21.237378Z"
    },
    "hidden": true
   },
   "source": [
    "**Family** = A set of objects of exactly same type. \n",
    "\n",
    "Examples:\n",
    "- Central Dipoles (BC)\n",
    "- Focusing quadrupoles in high beta segments (QFA)\n",
    "- Beam Position Monitors (BPM)\n",
    "\n",
    "Getting data about families:"
   ]
  },
  {
   "cell_type": "code",
   "execution_count": null,
   "metadata": {
    "ExecuteTime": {
     "end_time": "2023-02-10T12:08:18.516310Z",
     "start_time": "2023-02-10T12:08:18.235478Z"
    },
    "hidden": true
   },
   "outputs": [],
   "source": [
    "# fam_name with devname, index, subsection\n",
    "famdata = pymodels.si.get_family_data(model)"
   ]
  },
  {
   "cell_type": "code",
   "execution_count": null,
   "metadata": {
    "ExecuteTime": {
     "end_time": "2023-02-10T12:08:19.014529Z",
     "start_time": "2023-02-10T12:08:19.003684Z"
    },
    "hidden": true
   },
   "outputs": [],
   "source": [
    "famdata['BC']['subsection']"
   ]
  },
  {
   "cell_type": "code",
   "execution_count": null,
   "metadata": {
    "ExecuteTime": {
     "end_time": "2023-02-10T12:08:19.585145Z",
     "start_time": "2023-02-10T12:08:19.578943Z"
    },
    "hidden": true,
    "scrolled": true
   },
   "outputs": [],
   "source": [
    "bcidx = famdata['BC']['index']"
   ]
  },
  {
   "cell_type": "code",
   "execution_count": null,
   "metadata": {
    "ExecuteTime": {
     "end_time": "2023-02-10T12:08:20.551719Z",
     "start_time": "2023-02-10T12:08:20.540902Z"
    },
    "hidden": true
   },
   "outputs": [],
   "source": [
    "bcidx"
   ]
  },
  {
   "cell_type": "code",
   "execution_count": null,
   "metadata": {
    "ExecuteTime": {
     "end_time": "2023-02-10T12:08:21.157536Z",
     "start_time": "2023-02-10T12:08:21.147329Z"
    },
    "hidden": true
   },
   "outputs": [],
   "source": [
    "np.shape(famdata['BC']['index'])"
   ]
  },
  {
   "cell_type": "markdown",
   "metadata": {
    "hidden": true
   },
   "source": [
    "Some families have devnames keys:"
   ]
  },
  {
   "cell_type": "code",
   "execution_count": null,
   "metadata": {
    "ExecuteTime": {
     "end_time": "2023-02-10T12:08:22.882858Z",
     "start_time": "2023-02-10T12:08:22.879038Z"
    },
    "hidden": true
   },
   "outputs": [],
   "source": [
    "famdata['BPM']['devnames']"
   ]
  },
  {
   "cell_type": "markdown",
   "metadata": {
    "hidden": true
   },
   "source": [
    "Finding out the families names"
   ]
  },
  {
   "cell_type": "code",
   "execution_count": null,
   "metadata": {
    "ExecuteTime": {
     "end_time": "2023-02-10T12:08:25.869058Z",
     "start_time": "2023-02-10T12:08:25.865892Z"
    },
    "hidden": true
   },
   "outputs": [],
   "source": [
    "pymodels.si.families.families_pulsed_magnets()"
   ]
  },
  {
   "cell_type": "code",
   "execution_count": null,
   "metadata": {
    "ExecuteTime": {
     "end_time": "2023-02-10T12:08:27.343393Z",
     "start_time": "2023-02-10T12:08:27.337416Z"
    },
    "hidden": true
   },
   "outputs": [],
   "source": [
    "pymodels.si.families.families_dipoles()"
   ]
  },
  {
   "cell_type": "code",
   "execution_count": null,
   "metadata": {
    "ExecuteTime": {
     "end_time": "2023-02-10T12:08:29.066922Z",
     "start_time": "2023-02-10T12:08:29.053547Z"
    },
    "hidden": true
   },
   "outputs": [],
   "source": [
    "pymodels.si.families.families_quadrupoles()"
   ]
  },
  {
   "cell_type": "code",
   "execution_count": null,
   "metadata": {
    "ExecuteTime": {
     "end_time": "2023-02-10T12:08:29.901250Z",
     "start_time": "2023-02-10T12:08:29.898049Z"
    },
    "hidden": true
   },
   "outputs": [],
   "source": [
    "famdata['QFA']['index']"
   ]
  },
  {
   "cell_type": "code",
   "execution_count": null,
   "metadata": {
    "ExecuteTime": {
     "end_time": "2023-02-10T12:08:31.062264Z",
     "start_time": "2023-02-10T12:08:31.055862Z"
    },
    "hidden": true
   },
   "outputs": [],
   "source": [
    "pymodels.si.families.families_sextupoles()"
   ]
  },
  {
   "cell_type": "code",
   "execution_count": null,
   "metadata": {
    "ExecuteTime": {
     "end_time": "2023-02-10T12:08:31.797458Z",
     "start_time": "2023-02-10T12:08:31.787328Z"
    },
    "hidden": true
   },
   "outputs": [],
   "source": [
    "# Diagnostic families\n",
    "pymodels.si.families.families_di()"
   ]
  },
  {
   "cell_type": "markdown",
   "metadata": {
    "hidden": true
   },
   "source": [
    "Extracting PVs information"
   ]
  },
  {
   "cell_type": "code",
   "execution_count": null,
   "metadata": {
    "ExecuteTime": {
     "end_time": "2023-02-10T12:08:37.152322Z",
     "start_time": "2023-02-10T12:08:36.885780Z"
    },
    "hidden": true
   },
   "outputs": [],
   "source": [
    "from siriuspy.epics import PV"
   ]
  },
  {
   "cell_type": "code",
   "execution_count": null,
   "metadata": {
    "ExecuteTime": {
     "end_time": "2023-02-10T12:08:39.095895Z",
     "start_time": "2023-02-10T12:08:39.068477Z"
    },
    "hidden": true
   },
   "outputs": [],
   "source": [
    "# Instantiating the first BPM PV whose measures the x position of the beam.\n",
    "bpm1 = PV(famdata['BPM']['devnames'][3]+':PosY-Mon')"
   ]
  },
  {
   "cell_type": "code",
   "execution_count": null,
   "metadata": {
    "ExecuteTime": {
     "end_time": "2023-02-10T12:08:39.906536Z",
     "start_time": "2023-02-10T12:08:39.902905Z"
    },
    "hidden": true
   },
   "outputs": [],
   "source": [
    "bpm1.get()"
   ]
  },
  {
   "cell_type": "markdown",
   "metadata": {
    "heading_collapsed": true,
    "hidden": true
   },
   "source": [
    "### Elements Types\n",
    "markers, drifts, dipoles, quadrupoles, sextupoles, cavity"
   ]
  },
  {
   "cell_type": "code",
   "execution_count": null,
   "metadata": {
    "ExecuteTime": {
     "end_time": "2023-02-10T12:08:44.204490Z",
     "start_time": "2023-02-10T12:08:44.200410Z"
    },
    "hidden": true
   },
   "outputs": [],
   "source": [
    "# Marker\n",
    "print(model[0])"
   ]
  },
  {
   "cell_type": "code",
   "execution_count": null,
   "metadata": {
    "ExecuteTime": {
     "end_time": "2023-02-10T12:08:54.116322Z",
     "start_time": "2023-02-10T12:08:54.107836Z"
    },
    "hidden": true,
    "scrolled": true
   },
   "outputs": [],
   "source": [
    "# Drift\n",
    "print(model[2])"
   ]
  },
  {
   "cell_type": "code",
   "execution_count": null,
   "metadata": {
    "ExecuteTime": {
     "end_time": "2023-02-10T12:09:02.589036Z",
     "start_time": "2023-02-10T12:09:02.585507Z"
    },
    "hidden": true
   },
   "outputs": [],
   "source": [
    "# 20 BC dipoles divided in 34 segments\n",
    "bc_idx = famdata['BC']['index']\n",
    "np.array(bc_idx).shape"
   ]
  },
  {
   "cell_type": "code",
   "execution_count": null,
   "metadata": {
    "ExecuteTime": {
     "end_time": "2023-02-10T12:09:03.920828Z",
     "start_time": "2023-02-10T12:09:03.917835Z"
    },
    "hidden": true
   },
   "outputs": [],
   "source": [
    "bc_elem = model[bc_idx[0][2]]\n",
    "print(bc_elem) \n",
    "# Pay attention at the angle property:"
   ]
  },
  {
   "cell_type": "code",
   "execution_count": null,
   "metadata": {
    "ExecuteTime": {
     "end_time": "2023-02-10T12:09:06.095896Z",
     "start_time": "2023-02-10T12:09:06.091092Z"
    },
    "hidden": true
   },
   "outputs": [],
   "source": [
    "# quadrupole\n",
    "q1_idx = famdata['Q1']['index']\n",
    "np.array(q1_idx).shape"
   ]
  },
  {
   "cell_type": "code",
   "execution_count": null,
   "metadata": {
    "ExecuteTime": {
     "end_time": "2023-02-10T12:09:07.140590Z",
     "start_time": "2023-02-10T12:09:07.130698Z"
    },
    "hidden": true
   },
   "outputs": [],
   "source": [
    "print(model[q1_idx[0][0]])"
   ]
  },
  {
   "cell_type": "code",
   "execution_count": null,
   "metadata": {
    "ExecuteTime": {
     "end_time": "2023-02-10T12:09:09.015178Z",
     "start_time": "2023-02-10T12:09:09.008701Z"
    },
    "hidden": true
   },
   "outputs": [],
   "source": [
    "# quadrupole skew\n",
    "qs_idx = famdata['QS']['index']\n",
    "np.array(qs_idx).shape"
   ]
  },
  {
   "cell_type": "code",
   "execution_count": null,
   "metadata": {
    "ExecuteTime": {
     "end_time": "2023-02-10T12:09:10.384469Z",
     "start_time": "2023-02-10T12:09:10.379570Z"
    },
    "hidden": true
   },
   "outputs": [],
   "source": [
    "qs_elem = model[qs_idx[0][0]]\n",
    "print(qs_elem)"
   ]
  },
  {
   "cell_type": "code",
   "execution_count": null,
   "metadata": {
    "ExecuteTime": {
     "end_time": "2023-02-10T12:09:12.303130Z",
     "start_time": "2023-02-10T12:09:12.297470Z"
    },
    "hidden": true
   },
   "outputs": [],
   "source": [
    "q1_elem = model[q1_idx[0][0]]\n",
    "print(q1_elem)"
   ]
  },
  {
   "cell_type": "markdown",
   "metadata": {
    "ExecuteTime": {
     "end_time": "2022-03-21T14:29:21.303504Z",
     "start_time": "2022-03-21T14:29:21.294678Z"
    },
    "hidden": true
   },
   "source": [
    "Extracting the KL term of an element"
   ]
  },
  {
   "cell_type": "code",
   "execution_count": null,
   "metadata": {
    "ExecuteTime": {
     "end_time": "2023-02-10T12:09:15.408344Z",
     "start_time": "2023-02-10T12:09:15.402639Z"
    },
    "hidden": true
   },
   "outputs": [],
   "source": [
    "q1_elem.KL"
   ]
  },
  {
   "cell_type": "code",
   "execution_count": null,
   "metadata": {
    "ExecuteTime": {
     "end_time": "2023-02-10T12:09:16.527396Z",
     "start_time": "2023-02-10T12:09:16.522201Z"
    },
    "hidden": true
   },
   "outputs": [],
   "source": [
    "q1_elem.polynom_b[1]*q1_elem.length"
   ]
  },
  {
   "cell_type": "code",
   "execution_count": null,
   "metadata": {
    "ExecuteTime": {
     "end_time": "2023-02-10T12:09:18.920593Z",
     "start_time": "2023-02-10T12:09:18.908546Z"
    },
    "hidden": true
   },
   "outputs": [],
   "source": [
    "# sextupole\n",
    "sfa0_idx = famdata['SFA0']['index']\n",
    "np.array(sfa0_idx).shape"
   ]
  },
  {
   "cell_type": "code",
   "execution_count": null,
   "metadata": {
    "ExecuteTime": {
     "end_time": "2023-02-10T12:09:20.120513Z",
     "start_time": "2023-02-10T12:09:20.117813Z"
    },
    "hidden": true,
    "scrolled": false
   },
   "outputs": [],
   "source": [
    "sfa0_elem = model[sfa0_idx[0][0]]\n",
    "print(sfa0_elem)"
   ]
  },
  {
   "cell_type": "markdown",
   "metadata": {
    "hidden": true
   },
   "source": [
    "Extracting the SL term of an element"
   ]
  },
  {
   "cell_type": "code",
   "execution_count": null,
   "metadata": {
    "ExecuteTime": {
     "end_time": "2023-02-10T12:09:21.329734Z",
     "start_time": "2023-02-10T12:09:21.326353Z"
    },
    "hidden": true
   },
   "outputs": [],
   "source": [
    "sfa0_elem.SL, sfa0_elem.polynom_b[2]*sfa0_elem.length"
   ]
  },
  {
   "cell_type": "code",
   "execution_count": null,
   "metadata": {
    "ExecuteTime": {
     "end_time": "2023-02-10T12:09:23.055525Z",
     "start_time": "2023-02-10T12:09:23.051347Z"
    },
    "hidden": true
   },
   "outputs": [],
   "source": [
    "cav_idx = famdata['SRFCav']['index']\n",
    "cav_elem = model[cav_idx[0][0]]\n",
    "print(cav_elem)"
   ]
  },
  {
   "cell_type": "markdown",
   "metadata": {
    "heading_collapsed": true
   },
   "source": [
    "# Pyaccel\n",
    "\n",
    "Python module for beam dynamics tracking and optics calculations\n",
    "\n",
    "accelerator, elements, lattice, optics, tracking"
   ]
  },
  {
   "cell_type": "code",
   "execution_count": null,
   "metadata": {
    "ExecuteTime": {
     "end_time": "2023-02-10T12:09:26.528479Z",
     "start_time": "2023-02-10T12:09:26.521887Z"
    },
    "hidden": true
   },
   "outputs": [],
   "source": [
    "import pyaccel"
   ]
  },
  {
   "cell_type": "markdown",
   "metadata": {
    "heading_collapsed": true,
    "hidden": true
   },
   "source": [
    "### Model manipulation"
   ]
  },
  {
   "cell_type": "markdown",
   "metadata": {
    "hidden": true
   },
   "source": [
    "Getting the $s$ coordinate of all elements in the lattice:"
   ]
  },
  {
   "cell_type": "code",
   "execution_count": null,
   "metadata": {
    "ExecuteTime": {
     "end_time": "2023-02-10T12:09:29.820504Z",
     "start_time": "2023-02-10T12:09:29.769707Z"
    },
    "hidden": true
   },
   "outputs": [],
   "source": [
    "spos = pyaccel.lattice.find_spos(model)\n",
    "spos[bc_idx[0]]"
   ]
  },
  {
   "cell_type": "markdown",
   "metadata": {
    "hidden": true
   },
   "source": [
    "Finding indexes of an family present in the model."
   ]
  },
  {
   "cell_type": "code",
   "execution_count": null,
   "metadata": {
    "ExecuteTime": {
     "end_time": "2023-02-10T12:09:32.328128Z",
     "start_time": "2023-02-10T12:09:32.298794Z"
    },
    "hidden": true
   },
   "outputs": [],
   "source": [
    "cav_idx = pyaccel.lattice.find_indices(lattice=model, attribute_name='fam_name', value='SRFCav')\n",
    "cav_idx, famdata['SRFCav']['index']"
   ]
  },
  {
   "cell_type": "markdown",
   "metadata": {
    "hidden": true
   },
   "source": [
    "Getting an attribute"
   ]
  },
  {
   "cell_type": "code",
   "execution_count": null,
   "metadata": {
    "ExecuteTime": {
     "end_time": "2023-02-10T12:09:35.792520Z",
     "start_time": "2023-02-10T12:09:35.786874Z"
    },
    "hidden": true
   },
   "outputs": [],
   "source": [
    "rf_freq = pyaccel.lattice.get_attribute(model, 'frequency', indices=cav_idx)\n",
    "rf_freq, model[cav_idx[0]].frequency"
   ]
  },
  {
   "cell_type": "markdown",
   "metadata": {
    "hidden": true
   },
   "source": [
    "Setting an attribute"
   ]
  },
  {
   "cell_type": "code",
   "execution_count": null,
   "metadata": {
    "ExecuteTime": {
     "end_time": "2023-02-10T12:09:40.800611Z",
     "start_time": "2023-02-10T12:09:40.794994Z"
    },
    "hidden": true
   },
   "outputs": [],
   "source": [
    "pyaccel.lattice.set_attribute(model, 'frequency', indices=cav_idx, values=rf_freq+100)\n",
    "model[cav_idx[0]].frequency"
   ]
  },
  {
   "cell_type": "markdown",
   "metadata": {
    "hidden": true
   },
   "source": [
    "Setting and getting attributes using python property short command: "
   ]
  },
  {
   "cell_type": "code",
   "execution_count": null,
   "metadata": {
    "ExecuteTime": {
     "end_time": "2023-02-10T12:09:43.998715Z",
     "start_time": "2023-02-10T12:09:43.995564Z"
    },
    "hidden": true
   },
   "outputs": [],
   "source": [
    "model[cav_idx[0]].frequency = rf_freq\n",
    "model[cav_idx[0]].frequency"
   ]
  },
  {
   "cell_type": "markdown",
   "metadata": {
    "hidden": true
   },
   "source": [
    "Change all quadrupoles forces"
   ]
  },
  {
   "cell_type": "code",
   "execution_count": null,
   "metadata": {
    "ExecuteTime": {
     "end_time": "2023-02-10T12:09:48.512457Z",
     "start_time": "2023-02-10T12:09:48.506021Z"
    },
    "hidden": true
   },
   "outputs": [],
   "source": [
    "# default_KL = model[q1_idx[0][0]].KL"
   ]
  },
  {
   "cell_type": "code",
   "execution_count": null,
   "metadata": {
    "ExecuteTime": {
     "end_time": "2023-02-10T12:09:50.104311Z",
     "start_time": "2023-02-10T12:09:50.101606Z"
    },
    "hidden": true
   },
   "outputs": [],
   "source": [
    "# pyaccel.lattice.set_attribute(model, 'KL', indices=q1_idx, values=1.5 * default_KL)"
   ]
  },
  {
   "cell_type": "markdown",
   "metadata": {
    "ExecuteTime": {
     "end_time": "2021-09-16T17:46:25.058097Z",
     "start_time": "2021-09-16T17:46:25.052544Z"
    },
    "heading_collapsed": true,
    "hidden": true
   },
   "source": [
    "### Optics functions"
   ]
  },
  {
   "cell_type": "code",
   "execution_count": null,
   "metadata": {
    "ExecuteTime": {
     "end_time": "2023-02-10T12:09:53.022914Z",
     "start_time": "2023-02-10T12:09:52.697967Z"
    },
    "hidden": true
   },
   "outputs": [],
   "source": [
    "model = pyaccel.lattice.refine_lattice(model)\n",
    "twiss, *_ = pyaccel.optics.calc_twiss(model)\n",
    "\n",
    "## For coupled motion, you can use the Edwards-Teng functions:\n",
    "#edteng,*_ = pyaccel.optics.calc_edwards_teng(model)  "
   ]
  },
  {
   "cell_type": "code",
   "execution_count": null,
   "metadata": {
    "ExecuteTime": {
     "end_time": "2023-02-10T12:09:55.066082Z",
     "start_time": "2023-02-10T12:09:55.061252Z"
    },
    "hidden": true
   },
   "outputs": [],
   "source": [
    "betax, betay = twiss.betax, twiss.betay  # Beta functions\n",
    "etax, etay = twiss.etax, twiss.etay      # Dispersion functions\n",
    "mux, muy = twiss.mux, twiss.muy          # Phase advance\n",
    "spos = twiss.spos                        # s coordinate"
   ]
  },
  {
   "cell_type": "code",
   "execution_count": null,
   "metadata": {
    "ExecuteTime": {
     "end_time": "2023-02-10T12:09:58.342316Z",
     "start_time": "2023-02-10T12:09:56.189680Z"
    },
    "hidden": true
   },
   "outputs": [],
   "source": [
    "plt.figure()\n",
    "plt.plot(spos, betax, label=r'$\\beta_x$')\n",
    "plt.plot(spos, betay, label=r'$\\beta_y$')\n",
    "plt.xlabel('s [m]')\n",
    "plt.ylabel(r'$\\beta$ [m]')\n",
    "plt.title('Beta functions')\n",
    "plt.xlim([0, model.length/5])\n",
    "plt.ylim([-5, 30])\n",
    "plt.legend()\n",
    "pyaccel.graphics.draw_lattice(model, offset=-3, height=3, gca=True)\n",
    "plt.tight_layout()\n",
    "plt.show()"
   ]
  },
  {
   "cell_type": "code",
   "execution_count": null,
   "metadata": {
    "ExecuteTime": {
     "end_time": "2023-02-10T12:10:05.913733Z",
     "start_time": "2023-02-10T12:10:04.956493Z"
    },
    "hidden": true
   },
   "outputs": [],
   "source": [
    "plt.figure()\n",
    "plt.plot(spos, etax*100, label=r'$\\eta_x$', color='C2')\n",
    "plt.plot(spos, etay*100, label=r'$\\eta_y$', color='C3')\n",
    "plt.xlabel('s [m]')\n",
    "plt.ylabel(r'$\\eta$ [cm]')\n",
    "plt.title('Dispersion functions')\n",
    "plt.xlim([0, model.length/20])\n",
    "plt.ylim([-3, 9])\n",
    "plt.legend()\n",
    "pyaccel.graphics.draw_lattice(model, offset=-1.2, height=1.0, gca=True)\n",
    "plt.tight_layout()\n",
    "plt.show()"
   ]
  },
  {
   "cell_type": "code",
   "execution_count": null,
   "metadata": {
    "ExecuteTime": {
     "end_time": "2023-02-10T12:10:09.023512Z",
     "start_time": "2023-02-10T12:10:09.019091Z"
    },
    "hidden": true
   },
   "outputs": [],
   "source": [
    "# Tunes\n",
    "mux[-1]/2/np.pi, muy[-1]/2/np.pi"
   ]
  },
  {
   "cell_type": "code",
   "execution_count": null,
   "metadata": {
    "ExecuteTime": {
     "end_time": "2023-02-10T12:10:09.826463Z",
     "start_time": "2023-02-10T12:10:09.462185Z"
    },
    "hidden": true
   },
   "outputs": [],
   "source": [
    "# Chromaticities\n",
    "pyaccel.optics.get_chromaticities(model)"
   ]
  },
  {
   "cell_type": "markdown",
   "metadata": {
    "hidden": true
   },
   "source": [
    "EdwardsTeng examples"
   ]
  },
  {
   "cell_type": "code",
   "execution_count": null,
   "metadata": {
    "ExecuteTime": {
     "end_time": "2023-02-10T12:10:25.193028Z",
     "start_time": "2023-02-10T12:10:24.859673Z"
    },
    "hidden": true
   },
   "outputs": [],
   "source": [
    "edteng,*_ = pyaccel.optics.calc_edwards_teng(model)"
   ]
  },
  {
   "cell_type": "code",
   "execution_count": null,
   "metadata": {
    "ExecuteTime": {
     "end_time": "2023-02-10T12:10:25.472660Z",
     "start_time": "2023-02-10T12:10:25.464970Z"
    },
    "hidden": true
   },
   "outputs": [],
   "source": [
    "C, emit_ratio = pyaccel.optics.estimate_coupling_parameters(edteng)"
   ]
  },
  {
   "cell_type": "code",
   "execution_count": null,
   "metadata": {
    "ExecuteTime": {
     "end_time": "2023-02-10T12:10:25.891916Z",
     "start_time": "2023-02-10T12:10:25.883338Z"
    },
    "hidden": true
   },
   "outputs": [],
   "source": [
    "C"
   ]
  },
  {
   "cell_type": "markdown",
   "metadata": {
    "heading_collapsed": true,
    "hidden": true
   },
   "source": [
    "### Equilibrium Parameters"
   ]
  },
  {
   "cell_type": "code",
   "execution_count": null,
   "metadata": {
    "ExecuteTime": {
     "end_time": "2023-02-10T12:10:29.490986Z",
     "start_time": "2023-02-10T12:10:28.621537Z"
    },
    "hidden": true
   },
   "outputs": [],
   "source": [
    "# eqparam = pyaccel.optics.EquilibriumParametersIntegrals(model)\n",
    "eqparam = pyaccel.optics.EqParamsFromBeamEnvelope(model)"
   ]
  },
  {
   "cell_type": "code",
   "execution_count": null,
   "metadata": {
    "ExecuteTime": {
     "end_time": "2023-02-10T12:10:30.246240Z",
     "start_time": "2023-02-10T12:10:29.979556Z"
    },
    "hidden": true
   },
   "outputs": [],
   "source": [
    "print(eqparam)"
   ]
  },
  {
   "cell_type": "code",
   "execution_count": null,
   "metadata": {
    "ExecuteTime": {
     "end_time": "2023-02-10T12:10:32.607069Z",
     "start_time": "2023-02-10T12:10:31.674985Z"
    },
    "hidden": true
   },
   "outputs": [],
   "source": [
    "# Momentum Compaction Factor\n",
    "eqparam.alpha, pyaccel.optics.get_mcf(model)"
   ]
  },
  {
   "cell_type": "code",
   "execution_count": null,
   "metadata": {
    "ExecuteTime": {
     "end_time": "2023-02-10T12:10:33.568044Z",
     "start_time": "2023-02-10T12:10:33.562893Z"
    },
    "hidden": true
   },
   "outputs": [],
   "source": [
    "# Emittances\n",
    "eqparam.emit1, eqparam.emit2, eqparam.emit3"
   ]
  },
  {
   "cell_type": "code",
   "execution_count": null,
   "metadata": {
    "ExecuteTime": {
     "end_time": "2023-02-10T12:10:34.772588Z",
     "start_time": "2023-02-10T12:10:34.762909Z"
    },
    "hidden": true
   },
   "outputs": [],
   "source": [
    "# Energy spread, Bunch length\n",
    "eqparam.espread0, eqparam.bunlen"
   ]
  },
  {
   "cell_type": "code",
   "execution_count": null,
   "metadata": {
    "ExecuteTime": {
     "end_time": "2023-02-10T12:10:35.729786Z",
     "start_time": "2023-02-10T12:10:35.724772Z"
    },
    "hidden": true
   },
   "outputs": [],
   "source": [
    "# Damping times\n",
    "eqparam.tau1, eqparam.tau2, eqparam.tau3"
   ]
  },
  {
   "cell_type": "markdown",
   "metadata": {
    "ExecuteTime": {
     "end_time": "2021-09-16T18:07:28.331922Z",
     "start_time": "2021-09-16T18:07:28.327629Z"
    },
    "heading_collapsed": true,
    "hidden": true
   },
   "source": [
    "### One-turn matrix"
   ]
  },
  {
   "cell_type": "code",
   "execution_count": null,
   "metadata": {
    "ExecuteTime": {
     "end_time": "2023-02-10T12:10:37.692450Z",
     "start_time": "2023-02-10T12:10:37.529881Z"
    },
    "hidden": true
   },
   "outputs": [],
   "source": [
    "m1turn = pyaccel.tracking.find_m44(model)"
   ]
  },
  {
   "cell_type": "code",
   "execution_count": null,
   "metadata": {
    "ExecuteTime": {
     "end_time": "2023-02-10T12:10:38.456549Z",
     "start_time": "2023-02-10T12:10:38.451539Z"
    },
    "hidden": true
   },
   "outputs": [],
   "source": [
    "np.linalg.det(m1turn)"
   ]
  },
  {
   "cell_type": "markdown",
   "metadata": {
    "heading_collapsed": true,
    "hidden": true
   },
   "source": [
    "### Closed orbit\n",
    "\n",
    "$r = [x, x', y, y', \\delta, z]^T$\n",
    "\n",
    "idx = [0, 1, 2, 3, 4, 5]"
   ]
  },
  {
   "cell_type": "code",
   "execution_count": null,
   "metadata": {
    "ExecuteTime": {
     "end_time": "2023-02-10T12:10:41.112204Z",
     "start_time": "2023-02-10T12:10:40.969290Z"
    },
    "hidden": true
   },
   "outputs": [],
   "source": [
    "model = pymodels.si.create_accelerator()\n",
    "model.cavity_on = True"
   ]
  },
  {
   "cell_type": "code",
   "execution_count": null,
   "metadata": {
    "ExecuteTime": {
     "end_time": "2023-02-10T12:10:42.243756Z",
     "start_time": "2023-02-10T12:10:42.141378Z"
    },
    "hidden": true
   },
   "outputs": [],
   "source": [
    "cod = pyaccel.tracking.find_orbit6(model, indices='open')\n",
    "cod.shape"
   ]
  },
  {
   "cell_type": "code",
   "execution_count": null,
   "metadata": {
    "ExecuteTime": {
     "end_time": "2023-02-10T12:10:43.683002Z",
     "start_time": "2023-02-10T12:10:43.579837Z"
    },
    "hidden": true
   },
   "outputs": [],
   "source": [
    "plt.figure()\n",
    "spos = pyaccel.lattice.find_spos(model)\n",
    "plt.plot(spos, cod[0, :]*1e3, label=r'$x$')\n",
    "plt.plot(spos, cod[2, :]*1e3, label=r'$y$')\n",
    "plt.xlabel('s [m]')\n",
    "plt.ylabel(r'Closed orbit [mm]')\n",
    "plt.legend()\n",
    "plt.tight_layout()\n",
    "plt.show()"
   ]
  },
  {
   "cell_type": "code",
   "execution_count": null,
   "metadata": {
    "ExecuteTime": {
     "end_time": "2023-02-10T12:10:50.994475Z",
     "start_time": "2023-02-10T12:10:50.781261Z"
    },
    "hidden": true
   },
   "outputs": [],
   "source": [
    "chidx = famdata['CH']['index'][0][0]\n",
    "model[chidx].hkick_polynom = 10e-6 # [rad]\n",
    "codx = pyaccel.tracking.find_orbit6(model, indices='open')\n",
    "model[chidx].hkick_polynom = 0 # [rad]\n",
    "\n",
    "cvidx = famdata['CV']['index'][0][0]\n",
    "model[cvidx].vkick_polynom = 10e-6 # [rad]\n",
    "cody = pyaccel.tracking.find_orbit6(model, indices='open')\n",
    "model[cvidx].vkick_polynom = 0 # [rad]\n",
    "\n",
    "cavidx = famdata['SRFCav']['index'][0][0]\n",
    "model[cavidx].frequency += 100 # [Hz]\n",
    "codrf = pyaccel.tracking.find_orbit6(model, indices='open')\n",
    "model[cavidx].frequency -= 100 # [Hz]\n",
    "\n",
    "bpmidx = famdata['BPM']['index']\n",
    "bpmidx = np.array(bpmidx).ravel()"
   ]
  },
  {
   "cell_type": "code",
   "execution_count": null,
   "metadata": {
    "ExecuteTime": {
     "end_time": "2023-02-10T12:10:52.291162Z",
     "start_time": "2023-02-10T12:10:52.185566Z"
    },
    "hidden": true
   },
   "outputs": [],
   "source": [
    "plt.figure()\n",
    "spos = pyaccel.lattice.find_spos(model)\n",
    "plt.plot(spos, codx[0, :]*1e6, label=r'$x$', color='C4')\n",
    "plt.plot(spos[bpmidx], codx[0, bpmidx]*1e6, '-o', color='C0')\n",
    "plt.plot(spos, codx[2, :]*1e6, label=r'$y$')\n",
    "plt.plot(spos[bpmidx], codx[2, bpmidx]*1e6, '-o', color='C1')\n",
    "\n",
    "plt.xlabel('s [m]')\n",
    "plt.ylabel(r'Closed orbit [um]')\n",
    "plt.title('Horizontal Kick')\n",
    "plt.legend()\n",
    "plt.tight_layout()\n",
    "plt.show()"
   ]
  },
  {
   "cell_type": "code",
   "execution_count": null,
   "metadata": {
    "ExecuteTime": {
     "end_time": "2023-02-10T12:10:56.311383Z",
     "start_time": "2023-02-10T12:10:56.215432Z"
    },
    "hidden": true
   },
   "outputs": [],
   "source": [
    "plt.figure()\n",
    "spos = pyaccel.lattice.find_spos(model)\n",
    "plt.plot(spos, cody[0, :]*1e6, label=r'$x$')\n",
    "plt.plot(spos[bpmidx], cody[0, bpmidx]*1e6, 'o', color='C0')\n",
    "plt.plot(spos, cody[2, :]*1e6, label=r'$y$')\n",
    "plt.plot(spos[bpmidx], cody[2, bpmidx]*1e6, 'o', color='C1')\n",
    "plt.xlabel('s [m]')\n",
    "plt.ylabel(r'Closed orbit [um]')\n",
    "plt.title('Vertical Kick')\n",
    "plt.legend()\n",
    "plt.tight_layout()\n",
    "plt.show()"
   ]
  },
  {
   "cell_type": "code",
   "execution_count": null,
   "metadata": {
    "ExecuteTime": {
     "end_time": "2023-02-10T12:10:58.980951Z",
     "start_time": "2023-02-10T12:10:58.875121Z"
    },
    "hidden": true
   },
   "outputs": [],
   "source": [
    "plt.figure()\n",
    "spos = pyaccel.lattice.find_spos(model)\n",
    "plt.plot(spos, codrf[0, :]*1e6, label=r'$x$')\n",
    "plt.plot(spos[bpmidx], codrf[0, bpmidx]*1e6, '.', color='C0')\n",
    "plt.plot(spos, codrf[2, :]*1e6, label=r'$y$')\n",
    "plt.plot(spos[bpmidx], codrf[2, bpmidx]*1e6, '.', color='C1')\n",
    "plt.xlabel('s [m]')\n",
    "plt.ylabel(r'Closed orbit [um]')\n",
    "plt.title('RF Frequency Variation')\n",
    "plt.legend()\n",
    "plt.tight_layout()\n",
    "plt.show()"
   ]
  },
  {
   "cell_type": "markdown",
   "metadata": {
    "heading_collapsed": true,
    "hidden": true
   },
   "source": [
    "### Tracking"
   ]
  },
  {
   "cell_type": "code",
   "execution_count": null,
   "metadata": {
    "ExecuteTime": {
     "end_time": "2023-02-10T12:11:06.265432Z",
     "start_time": "2023-02-10T12:11:06.122472Z"
    },
    "hidden": true
   },
   "outputs": [],
   "source": [
    "model = pymodels.si.create_accelerator()\n",
    "model.cavity_on = False\n",
    "model.radiation_on = False\n",
    "model.vchamber_on = True"
   ]
  },
  {
   "cell_type": "code",
   "execution_count": null,
   "metadata": {
    "ExecuteTime": {
     "end_time": "2023-02-10T12:11:06.817946Z",
     "start_time": "2023-02-10T12:11:06.793631Z"
    },
    "hidden": true
   },
   "outputs": [],
   "source": [
    "x0 = 100e-6\n",
    "y0 = 1e-6\n",
    "# nturns = 100\n",
    "\n",
    "coord_ini = np.array([x0, 0, y0, 0, 0, 0])\n",
    "coord_fin, *_ = pyaccel.tracking.line_pass(model, coord_ini, indices='open')"
   ]
  },
  {
   "cell_type": "code",
   "execution_count": null,
   "metadata": {
    "ExecuteTime": {
     "end_time": "2023-02-10T12:11:07.587818Z",
     "start_time": "2023-02-10T12:11:07.481535Z"
    },
    "hidden": true
   },
   "outputs": [],
   "source": [
    "plt.figure()\n",
    "spos = pyaccel.lattice.find_spos(model)\n",
    "\n",
    "label = f\"$x_0={coord_ini[0]*1e6:.1f}um, x_0'={coord_ini[1]*1e6:.1f}urad$\"\n",
    "plt.plot(spos, coord_fin[0, :]*1e6, ls='-')\n",
    "plt.xlabel('s [m]')\n",
    "plt.ylabel(\"x [um]\")\n",
    "plt.title('Phase Space ' + label)\n",
    "plt.tight_layout()\n",
    "plt.show()"
   ]
  },
  {
   "cell_type": "code",
   "execution_count": null,
   "metadata": {
    "ExecuteTime": {
     "end_time": "2023-02-10T12:11:13.217629Z",
     "start_time": "2023-02-10T12:11:13.130229Z"
    },
    "hidden": true
   },
   "outputs": [],
   "source": [
    "plt.figure()\n",
    "spos = pyaccel.lattice.find_spos(model)\n",
    "\n",
    "label = f\"$y_0={coord_ini[2]*1e6:.1f}um, y_0'={coord_ini[3]*1e6:.1f}urad$\"\n",
    "plt.plot(spos, coord_fin[2, :]*1e6, ls='-')\n",
    "plt.xlabel('s [m]')\n",
    "plt.ylabel(\"y [um]\")\n",
    "plt.title('Phase Space ' + label)\n",
    "plt.tight_layout()\n",
    "plt.show()"
   ]
  },
  {
   "cell_type": "code",
   "execution_count": null,
   "metadata": {
    "ExecuteTime": {
     "end_time": "2023-02-10T12:11:21.023972Z",
     "start_time": "2023-02-10T12:11:17.909592Z"
    },
    "hidden": true
   },
   "outputs": [],
   "source": [
    "x0 = 1e-6\n",
    "y0 = 1e-6\n",
    "nturns = 2000\n",
    "\n",
    "coord_ini = np.array([x0, 0, y0, 0, 0, 0])\n",
    "coord_fin, *_ = pyaccel.tracking.ring_pass(model, coord_ini, nr_turns=nturns, turn_by_turn=True, parallel=True)"
   ]
  },
  {
   "cell_type": "code",
   "execution_count": null,
   "metadata": {
    "ExecuteTime": {
     "end_time": "2023-02-10T12:11:22.318449Z",
     "start_time": "2023-02-10T12:11:22.220544Z"
    },
    "hidden": true
   },
   "outputs": [],
   "source": [
    "plt.figure()\n",
    "\n",
    "label = f\"$x_0={coord_ini[0]*1e6:.1f}um, x_0'={coord_ini[1]*1e6:.1f}urad$\"\n",
    "plt.plot(coord_fin[0, :]*1e6, coord_fin[1, :]*1e6, marker='.', ls='')\n",
    "plt.xlabel('$x$ [um]')\n",
    "plt.ylabel(r\"$x'$ [urad]\")\n",
    "plt.title('Phase Space ' + label)\n",
    "plt.tight_layout()\n",
    "plt.show()"
   ]
  },
  {
   "cell_type": "code",
   "execution_count": null,
   "metadata": {
    "ExecuteTime": {
     "end_time": "2023-02-10T12:11:25.507860Z",
     "start_time": "2023-02-10T12:11:25.440524Z"
    },
    "hidden": true
   },
   "outputs": [],
   "source": [
    "plt.figure()\n",
    "\n",
    "label = f\"$y_0={coord_ini[2]*1e6:.1f}um, y_0'={coord_ini[3]*1e6:.1f}urad$\"\n",
    "plt.plot(coord_fin[2, :]*1e6, coord_fin[3, :]*1e6, marker='.', ls='')\n",
    "plt.xlabel('$y$ [um]')\n",
    "plt.ylabel(r\"$y'$ [urad]\")\n",
    "plt.title('Phase Space ' + label)\n",
    "plt.tight_layout()\n",
    "plt.show()"
   ]
  },
  {
   "cell_type": "code",
   "execution_count": null,
   "metadata": {
    "ExecuteTime": {
     "end_time": "2023-02-10T12:11:49.625129Z",
     "start_time": "2023-02-10T12:11:39.814526Z"
    },
    "hidden": true
   },
   "outputs": [],
   "source": [
    "# Switch to 6D tracking\n",
    "model.cavity_on = True\n",
    "model.radiation_on = True\n",
    "orb = pyaccel.tracking.find_orbit6(model, indices=None).ravel()\n",
    "\n",
    "x0 = 5e-3\n",
    "nturns = 5000\n",
    "\n",
    "coord_ini = np.array([x0, 0, 1e-6, 0, 0, 0]) + orb\n",
    "coord_fin, *_ = pyaccel.tracking.ring_pass(model, coord_ini, nr_turns=nturns, turn_by_turn=True, parallel=True)"
   ]
  },
  {
   "cell_type": "code",
   "execution_count": null,
   "metadata": {
    "ExecuteTime": {
     "end_time": "2023-02-10T12:11:50.144829Z",
     "start_time": "2023-02-10T12:11:50.040496Z"
    },
    "hidden": true
   },
   "outputs": [],
   "source": [
    "plt.figure()\n",
    "\n",
    "label = f\"$x_0={coord_ini[0]*1e6:.1f}um, x_0'={coord_ini[1]*1e6:.1f}urad$\"\n",
    "plt.plot(coord_fin[0, :]*1e6, coord_fin[1, :]*1e6, marker='.', ls='')\n",
    "plt.xlabel('$x$ [um]')\n",
    "plt.ylabel(r\"$x'$ [urad]\")\n",
    "plt.title('Phase Space ' + label)\n",
    "plt.tight_layout()\n",
    "plt.show()"
   ]
  },
  {
   "cell_type": "markdown",
   "metadata": {
    "hidden": true
   },
   "source": [
    "#### Tracking a bunch of particles"
   ]
  },
  {
   "cell_type": "code",
   "execution_count": null,
   "metadata": {
    "ExecuteTime": {
     "end_time": "2023-02-10T12:11:55.551389Z",
     "start_time": "2023-02-10T12:11:55.548284Z"
    },
    "hidden": true
   },
   "outputs": [],
   "source": [
    "# 4D first then switch to 6D\n",
    "model.cavity_on = False\n",
    "model.radiation_on = False"
   ]
  },
  {
   "cell_type": "code",
   "execution_count": null,
   "metadata": {
    "ExecuteTime": {
     "end_time": "2023-02-10T12:11:56.311581Z",
     "start_time": "2023-02-10T12:11:56.290251Z"
    },
    "hidden": true
   },
   "outputs": [],
   "source": [
    "emit1 = eqparam.emit1\n",
    "emit2 = abs(eqparam.emit2)\n",
    "espread = eqparam.espread0\n",
    "bunlen = eqparam.bunlen\n",
    "npart = 200\n",
    "\n",
    "bunch = pyaccel.tracking.generate_bunch(\n",
    "    emit1=emit1, emit2=emit2, sigmae=espread, sigmas=bunlen, optics=twiss[0], n_part=npart, cutoff=3)\n",
    "bunch.shape"
   ]
  },
  {
   "cell_type": "code",
   "execution_count": null,
   "metadata": {
    "ExecuteTime": {
     "end_time": "2023-02-10T12:12:25.758148Z",
     "start_time": "2023-02-10T12:11:57.541276Z"
    },
    "hidden": true
   },
   "outputs": [],
   "source": [
    "nturns = 500\n",
    "bunch_tbt, *_ = pyaccel.tracking.ring_pass(model, bunch, nr_turns=nturns, turn_by_turn=True, parallel=True)\n",
    "bunch_tbt.shape"
   ]
  },
  {
   "cell_type": "code",
   "execution_count": null,
   "metadata": {
    "ExecuteTime": {
     "end_time": "2023-02-10T12:12:26.349270Z",
     "start_time": "2023-02-10T12:12:26.194727Z"
    },
    "hidden": true
   },
   "outputs": [],
   "source": [
    "plt.figure(figsize=(12, 8))\n",
    "\n",
    "for part in range(10):\n",
    "    label = f\"$x_0={bunch_tbt[0, part, 0]*1e6:+04.0f}um, x_0'={bunch_tbt[1, part, 0]*1e6:+04.0f}urad$\"\n",
    "    plt.plot(bunch_tbt[0, part, :]*1e6, bunch_tbt[1, part, :]*1e6, marker='.', ls='', label=label)\n",
    "\n",
    "plt.xlabel('$x$ [um]')\n",
    "plt.ylabel(r\"$x'$ [urad]\")\n",
    "plt.title('Phase Space ')\n",
    "plt.legend(loc='center left', bbox_to_anchor=(1, 0.5))\n",
    "plt.tight_layout()\n",
    "plt.show()"
   ]
  },
  {
   "cell_type": "code",
   "execution_count": null,
   "metadata": {
    "ExecuteTime": {
     "end_time": "2023-02-10T12:12:43.271373Z",
     "start_time": "2023-02-10T12:12:37.271302Z"
    },
    "hidden": true
   },
   "outputs": [],
   "source": [
    "bunch[0] += 5e-3\n",
    "nturns = 100\n",
    "bunch_tbt2, *_ = pyaccel.tracking.ring_pass(model, bunch, nr_turns=nturns, turn_by_turn=True, parallel=True)\n",
    "bunch_tbt2.shape"
   ]
  },
  {
   "cell_type": "code",
   "execution_count": null,
   "metadata": {
    "ExecuteTime": {
     "end_time": "2023-02-10T12:12:43.809820Z",
     "start_time": "2023-02-10T12:12:43.799810Z"
    },
    "hidden": true
   },
   "outputs": [],
   "source": [
    "%matplotlib qt5"
   ]
  },
  {
   "cell_type": "code",
   "execution_count": null,
   "metadata": {
    "ExecuteTime": {
     "end_time": "2023-02-10T12:13:35.393644Z",
     "start_time": "2023-02-10T12:12:44.363835Z"
    },
    "hidden": true
   },
   "outputs": [],
   "source": [
    "plt.figure(figsize=(8, 8))\n",
    "spos = pyaccel.lattice.find_spos(model)\n",
    "\n",
    "nt = bunch_tbt2.shape[2]-1\n",
    "cmap = plt.cm.jet(np.linspace(0, 1, nt+1))\n",
    "plt.xlim([-7e3, 6e3])\n",
    "plt.ylim([-400, 400])\n",
    "plt.xlabel('$x$ [um]')\n",
    "plt.ylabel(r\"$x'$ [urad]\")\n",
    "plt.title('Phase Space ')\n",
    "plt.tight_layout()\n",
    "for i, cor in enumerate(cmap):\n",
    "    plt.plot(bunch_tbt2[0, :, i]*1e6, bunch_tbt2[1, :, i]*1e6, marker='.', ls='', color=cor)\n",
    "    plt.pause(0.5)\n",
    "plt.show()"
   ]
  },
  {
   "cell_type": "code",
   "execution_count": null,
   "metadata": {
    "ExecuteTime": {
     "end_time": "2023-02-10T12:13:39.774823Z",
     "start_time": "2023-02-10T12:13:39.592078Z"
    },
    "hidden": true
   },
   "outputs": [],
   "source": [
    "plt.figure(figsize=(8, 8))\n",
    "for i in range(npart):\n",
    "    plt.plot(bunch_tbt2[0, i, :]*1e6, color='C0', alpha=0.01)\n",
    "\n",
    "plt.plot(np.mean(bunch_tbt2[0, :, :], axis=0)*1e6, lw=2, color='tab:red', label='Centroid')\n",
    "plt.xlabel('turn index')\n",
    "plt.ylabel(r\"$x$ [um]\")\n",
    "plt.legend()\n",
    "plt.tight_layout()\n",
    "plt.show()"
   ]
  },
  {
   "cell_type": "markdown",
   "metadata": {
    "heading_collapsed": true,
    "hidden": true
   },
   "source": [
    "### Lifetime"
   ]
  },
  {
   "cell_type": "code",
   "execution_count": null,
   "metadata": {
    "ExecuteTime": {
     "end_time": "2023-02-10T12:20:06.638068Z",
     "start_time": "2023-02-10T12:20:06.246355Z"
    },
    "hidden": true
   },
   "outputs": [],
   "source": [
    "model = pymodels.si.create_accelerator()\n",
    "model = pymodels.si.fitted_models.vertical_dispersion_and_coupling(model)\n",
    "cav = pyaccel.lattice.find_indices(model, 'fam_name', 'SRFCav')[0]\n",
    "model[cav].voltage = 1.5e6\n",
    "model.cavity_on=True\n",
    "model.radiation_on=True\n",
    "model.vchamber_on=True"
   ]
  },
  {
   "cell_type": "code",
   "execution_count": null,
   "metadata": {
    "ExecuteTime": {
     "end_time": "2023-02-10T12:21:38.054367Z",
     "start_time": "2023-02-10T12:21:37.384684Z"
    },
    "hidden": true
   },
   "outputs": [],
   "source": [
    "ltime = pyaccel.lifetime.Lifetime(model)\n",
    "# spos = twiss.spos\n",
    "spos = pyaccel.lattice.find_spos(model, indices='closed')"
   ]
  },
  {
   "cell_type": "code",
   "execution_count": null,
   "metadata": {
    "ExecuteTime": {
     "end_time": "2023-02-10T12:21:41.359041Z",
     "start_time": "2023-02-10T12:21:41.352456Z"
    },
    "hidden": true
   },
   "outputs": [],
   "source": [
    "ltime.curr_per_bunch = 100/864\n",
    "# ltime.avg_pressure = 2e-9"
   ]
  },
  {
   "cell_type": "code",
   "execution_count": null,
   "metadata": {
    "ExecuteTime": {
     "end_time": "2023-02-10T12:21:43.980673Z",
     "start_time": "2023-02-10T12:21:42.203746Z"
    },
    "hidden": true
   },
   "outputs": [],
   "source": [
    "ltime.lifetime_touschek/3600, float(ltime.lifetime_total/3600)"
   ]
  },
  {
   "cell_type": "code",
   "execution_count": null,
   "metadata": {
    "ExecuteTime": {
     "end_time": "2023-02-10T12:22:01.031129Z",
     "start_time": "2023-02-10T12:21:52.136260Z"
    },
    "hidden": true
   },
   "outputs": [],
   "source": [
    "enaccn, enaccp = pyaccel.optics.calc_touschek_energy_acceptance(model)\n",
    "enaccn = np.maximum(enaccn, -ltime.equi_params.rf_acceptance)\n",
    "enaccp = np.minimum(enaccp, ltime.equi_params.rf_acceptance)\n",
    "ltime.accepen = (enaccn, enaccp)"
   ]
  },
  {
   "cell_type": "markdown",
   "metadata": {
    "hidden": true
   },
   "source": [
    "Lifetime "
   ]
  },
  {
   "cell_type": "code",
   "execution_count": null,
   "metadata": {
    "ExecuteTime": {
     "end_time": "2023-02-10T12:22:02.148586Z",
     "start_time": "2023-02-10T12:22:01.482772Z"
    },
    "hidden": true
   },
   "outputs": [],
   "source": [
    "plt.figure()\n",
    "plt.plot(spos, enaccn*100)\n",
    "plt.plot(spos, enaccp*100)\n",
    "plt.xlabel('s [m]')\n",
    "plt.ylabel(r'Touschek Energy Acceptance [%]')\n",
    "plt.title('Energy Acceptance')\n",
    "plt.xlim([0, model.length/20])\n",
    "pyaccel.graphics.draw_lattice(model, offset=0, height=1, gca=True)\n",
    "plt.tight_layout()\n",
    "plt.show()"
   ]
  },
  {
   "cell_type": "code",
   "execution_count": null,
   "metadata": {
    "ExecuteTime": {
     "end_time": "2023-02-10T12:22:05.139079Z",
     "start_time": "2023-02-10T12:22:03.690547Z"
    },
    "hidden": true
   },
   "outputs": [],
   "source": [
    "ltime.lifetime_touschek/3600, float(ltime.lifetime_total/3600)"
   ]
  },
  {
   "cell_type": "code",
   "execution_count": null,
   "metadata": {
    "hidden": true
   },
   "outputs": [],
   "source": []
  }
 ],
 "metadata": {
  "hide_input": false,
  "kernelspec": {
   "display_name": "Python 3 (ipykernel)",
   "language": "python",
   "name": "python3"
  },
  "language_info": {
   "codemirror_mode": {
    "name": "ipython",
    "version": 3
   },
   "file_extension": ".py",
   "mimetype": "text/x-python",
   "name": "python",
   "nbconvert_exporter": "python",
   "pygments_lexer": "ipython3",
   "version": "3.9.2"
  },
  "toc": {
   "base_numbering": 1,
   "nav_menu": {},
   "number_sections": true,
   "sideBar": true,
   "skip_h1_title": false,
   "title_cell": "Table of Contents",
   "title_sidebar": "Contents",
   "toc_cell": false,
   "toc_position": {
    "height": "calc(100% - 180px)",
    "left": "10px",
    "top": "150px",
    "width": "310.167px"
   },
   "toc_section_display": true,
   "toc_window_display": true
  },
  "varInspector": {
   "cols": {
    "lenName": 16,
    "lenType": 16,
    "lenVar": 40
   },
   "kernels_config": {
    "python": {
     "delete_cmd_postfix": "",
     "delete_cmd_prefix": "del ",
     "library": "var_list.py",
     "varRefreshCmd": "print(var_dic_list())"
    },
    "r": {
     "delete_cmd_postfix": ") ",
     "delete_cmd_prefix": "rm(",
     "library": "var_list.r",
     "varRefreshCmd": "cat(var_dic_list()) "
    }
   },
   "types_to_exclude": [
    "module",
    "function",
    "builtin_function_or_method",
    "instance",
    "_Feature"
   ],
   "window_display": false
  },
  "vscode": {
   "interpreter": {
    "hash": "bd47041ee29abeb3e94b753c188d5fca44afcfc2289c44ee2540cf8e7426cad6"
   }
  }
 },
 "nbformat": 4,
 "nbformat_minor": 2
}
